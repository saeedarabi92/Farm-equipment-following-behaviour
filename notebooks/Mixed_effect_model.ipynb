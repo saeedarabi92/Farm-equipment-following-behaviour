{
 "cells": [
  {
   "cell_type": "code",
   "execution_count": 1,
   "metadata": {
    "collapsed": true
   },
   "outputs": [],
   "source": [
    "import os, glob\n",
    "import pandas as pd\n",
    "from helper import *\n",
    "import datetime\n",
    "import numpy as np\n",
    "pwd = os.path.dirname(os.path.realpath('.'))\n",
    "data_folder = pwd + '/Data'\n",
    "data_2018 = data_folder + '/2018'"
   ]
  },
  {
   "cell_type": "code",
   "execution_count": 2,
   "metadata": {
    "collapsed": true
   },
   "outputs": [],
   "source": [
    "list_of_speed_files_2018 = glob.glob(data_2018+'/speed_for_chunks/*')\n",
    "list_of_csv_files_2018 = glob.glob(data_2018+'/2018_results/*')\n",
    "annotations = pd.read_excel(data_2018+'/annotation.xlsx')\n",
    "# len(list_of_csv_files_2018)"
   ]
  },
  {
   "cell_type": "code",
   "execution_count": 3,
   "metadata": {
    "collapsed": true,
    "scrolled": true
   },
   "outputs": [],
   "source": [
    "#  filter unvalid files\n",
    "annotations = annotations[annotations.is_valid == 'Y']"
   ]
  },
  {
   "cell_type": "code",
   "execution_count": null,
   "metadata": {
    "collapsed": true
   },
   "outputs": [],
   "source": [
    "name_of_csv_files_2018 = [i.split('/')[-1].split('.')[0] for i in list_of_csv_files_2018]\n",
    "valid_files = [i for i in annotations.filename]\n",
    "cnt = 0\n",
    "for i in valid_files:\n",
    "    if i in name_of_csv_files_2018:\n",
    "        cnt += 1\n",
    "assert cnt == len(valid_files), \"Not all the files found!\""
   ]
  },
  {
   "cell_type": "code",
   "execution_count": null,
   "metadata": {},
   "outputs": [
    {
     "name": "stdout",
     "output_type": "stream",
     "text": [
      "Processing file:  unit01_2018-09-26_20_38_20_1_2832\n",
      "Processing file:  unit01_2018-09-26_22_29_30_1_7032\n",
      "Processing file:  unit01_2018-09-26_22_29_30_4_28392\n",
      "Processing file:  unit01_2018-09-26_23_17_50_3_25560\n",
      "Processing file:  unit01_2018-10-17_15_03_17_15_83064\n",
      "Processing file:  unit01_2018-10-18_15_22_15_1_66288\n",
      "Processing file:  unit01_2018-10-19_21_13_40_1_1\n",
      "Processing file:  unit01_2018-10-20_16_57_49_2_103512\n",
      "Processing file:  unit01_2018-10-20_16_57_49_3_105384\n",
      "Processing file:  unit01_2018-10-21_19_16_24_1_480\n",
      "433  files remained!\n",
      "10  file processed!\n",
      "Processing file:  unit01_2018-10-21_19_16_24_2_2520\n",
      "Processing file:  unit01_2018-10-21_22_59_02_1_1272\n",
      "Processing file:  unit01_2018-10-21_22_59_02_2_12192\n",
      "Processing file:  unit01_2018-10-21_22_59_02_4_20376\n",
      "Processing file:  unit01_2018-10-22_20_55_26_8_257952\n",
      "Processing file:  unit01_2018-10-24_20_15_45_17_292464\n",
      "Processing file:  unit01_2018-10-26_17_54_18_2_89472\n",
      "Processing file:  unit01_2018-10-26_17_54_18_3_90888\n",
      "Processing file:  unit01_2018-10-26_19_21_40_1_504\n",
      "Processing file:  unit01_2018-10-26_19_21_40_3_55200\n",
      "423  files remained!\n",
      "20  file processed!\n",
      "Processing file:  unit01_2018-11-02_22_59_36_2_1488\n",
      "Processing file:  unit01_2018-11-02_22_59_36_3_5856\n",
      "Processing file:  unit01_2018-11-02_22_59_36_5_11520\n",
      "Processing file:  unit01_2018-11-02_22_59_36_7_15984\n",
      "Processing file:  unit01_2018-11-08_18_42_37_4_99672\n",
      "Processing file:  unit01_2018-11-09_20_36_21_2_5640\n",
      "Processing file:  unit01_2018-11-11_15_36_03_10_26256\n",
      "Processing file:  unit01_2018-11-11_15_36_03_1_1\n",
      "Processing file:  unit01_2018-11-11_15_36_03_2_2376\n",
      "Processing file:  unit01_2018-11-11_15_36_03_46_666888\n",
      "413  files remained!\n",
      "30  file processed!\n",
      "Processing file:  unit01_2018-11-11_15_36_03_7_13680\n",
      "Processing file:  unit01_2018-11-11_15_36_03_8_14736\n",
      "Processing file:  unit01_2018-11-12_15_57_15_11_205992\n",
      "Processing file:  unit01_2018-11-12_15_57_15_13_210576\n",
      "Processing file:  unit01_2018-11-12_18_11_42_11_80688\n",
      "Processing file:  unit01_2018-11-12_18_11_42_12_82968\n",
      "Processing file:  unit01_2018-11-12_18_11_42_1_1\n",
      "Processing file:  unit01_2018-11-12_18_11_42_6_69600\n",
      "Processing file:  unit01_2018-11-14_18_57_03_16_54672\n",
      "Processing file:  unit01_2018-11-14_18_57_03_3_6696\n",
      "403  files remained!\n",
      "40  file processed!\n",
      "Processing file:  unit01_2018-11-14_18_57_03_9_24264\n",
      "Processing file:  unit01_2018-11-24_16_02_27_12_241488\n",
      "Processing file:  unit01_2018-11-24_16_02_27_13_244992\n",
      "Processing file:  unit01_2018-11-24_16_02_27_15_269592\n",
      "Processing file:  unit01_2018-11-24_16_02_27_19_282264\n",
      "Processing file:  unit01_2018-11-24_16_02_27_21_295488\n",
      "Processing file:  unit01_2018-11-24_16_02_27_22_297288\n",
      "Processing file:  unit01_2018-11-24_16_02_27_23_307776\n",
      "Processing file:  unit01_2018-11-24_16_02_27_36_529512\n",
      "Processing file:  unit01_2018-11-24_16_02_27_37_536856\n",
      "393  files remained!\n",
      "50  file processed!\n",
      "Processing file:  unit01_2018-11-24_16_02_27_38_546384\n",
      "Processing file:  unit01_2018-11-24_16_02_27_39_549120\n",
      "Processing file:  unit01_2018-11-24_16_02_27_46_559440\n",
      "Processing file:  unit02_2018-10-04_18_53_28_2_10344\n",
      "Processing file:  unit02_2018-10-04_18_53_28_3_17208\n",
      "Processing file:  unit02_2018-10-04_18_53_28_4_48456\n",
      "Processing file:  unit02_2018-10-19_20_47_14_1_1\n",
      "Processing file:  unit02_2018-10-25_18_10_26_1_2496\n",
      "Processing file:  unit02_2018-10-27_17_04_51_1_1\n",
      "Processing file:  unit02_2018-10-29_19_32_59_2_5256\n",
      "383  files remained!\n",
      "60  file processed!\n",
      "Processing file:  unit02_2018-10-30_19_42_19_3_2952\n",
      "Processing file:  unit02_2018-11-01_14_11_25_36_634776\n",
      "Processing file:  unit02_2018-11-01_14_11_25_37_656160\n",
      "Processing file:  unit02_2018-11-01_14_11_25_39_665928\n"
     ]
    }
   ],
   "source": [
    "cnt = 0\n",
    "dataset = pd.DataFrame()\n",
    "not_processed = []\n",
    "for j in annotations.filename:\n",
    "    for i in name_of_csv_files_2018:\n",
    "        if i == j:\n",
    "            print(\"Processing file: \", j)\n",
    "            try:\n",
    "                file = [k for k in list_of_speed_files_2018 if k.split('/')[-1].split('.')[0][:-6] == j][0]\n",
    "            except:\n",
    "                print('Could not process ', j)\n",
    "                print('Speed profile could not be found!')\n",
    "                not_processed.append(j)\n",
    "                break\n",
    "            df_raw_speed = prepare_speed_profiles_for_model(file)\n",
    "\n",
    "            file = [k for k in list_of_csv_files_2018 if k.split('/')[-1].split('.')[0] == j][0]\n",
    "\n",
    "            df_detection = prepare_detections_for_model(file, df_raw_speed)\n",
    "            df_detection = merge_speed_and_detection(df_detection, df_raw_speed, annotations, filename=i)\n",
    "\n",
    "            dataset = pd.concat([dataset,df_detection])\n",
    "\n",
    "            cnt += 1\n",
    "\n",
    "    if cnt%10 == 0:\n",
    "        print(len(list_of_speed_files_2018)-cnt, \" files remained!\")\n",
    "        print(cnt, ' file processed!')"
   ]
  },
  {
   "cell_type": "code",
   "execution_count": null,
   "metadata": {
    "collapsed": true
   },
   "outputs": [],
   "source": [
    "dataset.to_csv('../Data/dataset.csv')"
   ]
  },
  {
   "cell_type": "code",
   "execution_count": null,
   "metadata": {
    "collapsed": true
   },
   "outputs": [],
   "source": []
  }
 ],
 "metadata": {
  "kernelspec": {
   "display_name": "Python 3",
   "language": "python",
   "name": "python3"
  },
  "language_info": {
   "codemirror_mode": {
    "name": "ipython",
    "version": 3
   },
   "file_extension": ".py",
   "mimetype": "text/x-python",
   "name": "python",
   "nbconvert_exporter": "python",
   "pygments_lexer": "ipython3",
   "version": "3.7.3"
  }
 },
 "nbformat": 4,
 "nbformat_minor": 2
}
