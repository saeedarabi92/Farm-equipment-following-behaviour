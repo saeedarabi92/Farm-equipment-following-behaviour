{
 "cells": [
  {
   "cell_type": "code",
   "execution_count": 1,
   "metadata": {
    "collapsed": true
   },
   "outputs": [],
   "source": [
    "import os, glob\n",
    "import pandas as pd\n",
    "from helper import *\n",
    "import datetime\n",
    "import numpy as np\n",
    "pwd = os.path.dirname(os.path.realpath('.'))\n",
    "data_folder = pwd + '/Data'\n",
    "data_2018 = data_folder + '/2018'"
   ]
  },
  {
   "cell_type": "code",
   "execution_count": 2,
   "metadata": {},
   "outputs": [],
   "source": [
    "list_of_speed_files_2018 = glob.glob(data_2018+'/speed_for_chunks/*')\n",
    "list_of_csv_files_2018 = glob.glob(data_2018+'/2018_results/*')\n",
    "annotations = pd.read_excel(data_2018+'/annotation.xlsx')\n",
    "# len(list_of_csv_files_2018)"
   ]
  },
  {
   "cell_type": "code",
   "execution_count": 3,
   "metadata": {
    "collapsed": true,
    "scrolled": true
   },
   "outputs": [],
   "source": [
    "#  filter unvalid files\n",
    "annotations = annotations[annotations.is_valid == 'Y']"
   ]
  },
  {
   "cell_type": "code",
   "execution_count": null,
   "metadata": {
    "collapsed": true
   },
   "outputs": [],
   "source": [
    "name_of_csv_files_2018 = [i.split('/')[-1].split('.')[0] for i in list_of_csv_files_2018]\n",
    "valid_files = [i for i in annotations.filename]\n",
    "cnt = 0\n",
    "for i in valid_files:\n",
    "    if i in name_of_csv_files_2018:\n",
    "        cnt += 1\n",
    "assert cnt == len(valid_files), \"Not all the files found!\""
   ]
  },
  {
   "cell_type": "code",
   "execution_count": null,
   "metadata": {},
   "outputs": [
    {
     "name": "stdout",
     "output_type": "stream",
     "text": [
      "Processed file:  unit15_2018-11-03_16_24_47_3_14856\n",
      "Processed file:  unit15_2018-11-03_16_24_47_3_14856\n",
      "Processed file:  unit15_2018-11-03_16_24_47_3_14856\n",
      "Processed file:  unit15_2018-11-03_16_24_47_3_14856\n",
      "Processed file:  unit15_2018-11-03_16_24_47_3_14856\n",
      "438  files remained!\n",
      "Processed file:  unit15_2018-11-03_16_24_47_3_14856\n",
      "Processed file:  unit15_2018-11-03_16_24_47_3_14856\n",
      "Processed file:  unit15_2018-11-03_16_24_47_3_14856\n",
      "Processed file:  unit15_2018-11-03_16_24_47_3_14856\n"
     ]
    }
   ],
   "source": [
    "cnt = 0\n",
    "dataset = pd.DataFrame()\n",
    "for j in annotations.filename:\n",
    "    for i in name_of_csv_files_2018:\n",
    "\n",
    "        if i == j:\n",
    "            file = [k for k in list_of_speed_files_2018 if k.split('/')[-1].split('.')[0][:-6] == j][0]\n",
    "\n",
    "            df_raw_speed = prepare_speed_profiles_for_model(file)\n",
    "\n",
    "            file = [k for k in list_of_csv_files_2018 if k.split('/')[-1].split('.')[0] == j][0]\n",
    "\n",
    "            df_detection = prepare_detections_for_model(file, df_raw_speed)\n",
    "            df_detection = merge_speed_and_detection(df_detection, df_raw_speed, annotations, filename=i)\n",
    "            \n",
    "            dataset = pd.concat([dataset,df_detection])\n",
    "\n",
    "            cnt += 1\n",
    "    print(\"Processed file: \", i)\n",
    "    if cnt%5 == 0:\n",
    "        print(len(list_of_speed_files_2018)-cnt, \" files remained!\")"
   ]
  },
  {
   "cell_type": "code",
   "execution_count": null,
   "metadata": {
    "collapsed": true
   },
   "outputs": [],
   "source": [
    "dataset.to_csv('../Data/dataset.csv')"
   ]
  },
  {
   "cell_type": "code",
   "execution_count": null,
   "metadata": {
    "collapsed": true
   },
   "outputs": [],
   "source": []
  }
 ],
 "metadata": {
  "kernelspec": {
   "display_name": "Python 3",
   "language": "python",
   "name": "python3"
  },
  "language_info": {
   "codemirror_mode": {
    "name": "ipython",
    "version": 3
   },
   "file_extension": ".py",
   "mimetype": "text/x-python",
   "name": "python",
   "nbconvert_exporter": "python",
   "pygments_lexer": "ipython3",
   "version": "3.6.7"
  }
 },
 "nbformat": 4,
 "nbformat_minor": 2
}
