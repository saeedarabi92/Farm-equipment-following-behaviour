{
 "cells": [
  {
   "cell_type": "code",
   "execution_count": 12,
   "metadata": {},
   "outputs": [],
   "source": [
    "import os, glob\n",
    "import pandas as pd\n",
    "from helper import *\n",
    "import datetime\n",
    "import numpy as np\n",
    "pwd = os.path.dirname(os.path.realpath('.'))\n",
    "data_folder = pwd + '/Data'\n",
    "data_2018 = data_folder + '/2018'"
   ]
  },
  {
   "cell_type": "code",
   "execution_count": 3,
   "metadata": {},
   "outputs": [
    {
     "data": {
      "text/plain": [
       "4948"
      ]
     },
     "execution_count": 3,
     "metadata": {},
     "output_type": "execute_result"
    }
   ],
   "source": [
    "list_of_speed_files_2018 = glob.glob(data_2018+'/speed_for_chunks/*')\n",
    "list_of_csv_files_2018 = glob.glob(data_2018+'/2018_results/*')\n",
    "annotations = pd.read_excel(data_2018+'/annotation.xlsx')\n",
    "len(list_of_csv_files_2018)"
   ]
  },
  {
   "cell_type": "code",
   "execution_count": 4,
   "metadata": {
    "scrolled": true
   },
   "outputs": [],
   "source": [
    "#  filter unvalid files\n",
    "annotations = annotations[annotations.is_valid == 'Y']"
   ]
  },
  {
   "cell_type": "code",
   "execution_count": 5,
   "metadata": {},
   "outputs": [
    {
     "name": "stdout",
     "output_type": "stream",
     "text": [
      "462\n"
     ]
    }
   ],
   "source": [
    "name_of_csv_files_2018 = [i.split('/')[-1].split('.')[0] for i in list_of_csv_files_2018]\n",
    "valid_files = [i for i in annotations.filename]\n",
    "cnt = 0\n",
    "for i in valid_files:\n",
    "    if i in name_of_csv_files_2018:\n",
    "        cnt += 1\n",
    "print(cnt)\n",
    "assert cnt == len(valid_files), \"Not all the files found!\""
   ]
  },
  {
   "cell_type": "code",
   "execution_count": 91,
   "metadata": {},
   "outputs": [],
   "source": [
    "cnt = 0\n",
    "\n",
    "for j in annotations.filename:\n",
    "    for i in name_of_csv_files_2018:\n",
    "        if i == \"unit01_2018-10-17_15_03_17_15_83064\":\n",
    "            file = [k for k in list_of_csv_files_2018 if k.split('/')[-1].split('.')[0] == j][0]\n",
    "            df_detection = cluster(file)\n",
    "            file = [k for k in list_of_speed_files_2018 if k.split('/')[-1].split('.')[0][:-6] == j][0]\n",
    "            df_raw_speed = pd.read_csv(file)\n",
    "            df_raw_speed.columns = ['ST_unit', 'Latitude', 'Longitude', 'Date', 'Time_UTC', 'newDateTime', 'Speed_knots', 'Speed_MPH', 'Speed_mps', 'valid']\n",
    "            df_raw_speed['datetime'] = [datetime.datetime.strptime(str(i), '%H:%M:%S') for i in df_raw_speed.Time_UTC]\n",
    "            df_raw_speed['datetime_time'] = df_raw_speed.datetime.dt.time\n",
    "            df_detection['datetime_time'] = [i.round('1s').time() for i in pd.date_range(min(df_raw_speed.datetime), max(df_raw_speed.datetime), len(df_detection))]\n",
    "            df_detection = pd.merge(df_detection,df_raw_speed[['datetime_time','Speed_MPH']],on='datetime_time', how='left')\n",
    "            df_detection['filename'] = i\n",
    "            df_detection.Speed_MPH.interpolate(inplace = True)\n",
    "            df_detection = df_detection[df_detection.obj_ID == 1]\n",
    "            df_detection = pd.merge(df_detection,annotations[[\n",
    "                'filename','Type of vehicle','Type of road']], on='filename', how='left')\n",
    "            df_detection = df_detection[['frame_num', 'dist', 'center', 'datetime_time',\n",
    "                                        'Speed_MPH', 'filename', 'Type of vehicle', 'Type of road']]\n",
    "            \n",
    "\n",
    "            cnt += 1\n",
    "    if cnt == 5:\n",
    "        break"
   ]
  },
  {
   "cell_type": "code",
   "execution_count": null,
   "metadata": {},
   "outputs": [],
   "source": []
  }
 ],
 "metadata": {
  "kernelspec": {
   "display_name": "Python 3",
   "language": "python",
   "name": "python3"
  },
  "language_info": {
   "codemirror_mode": {
    "name": "ipython",
    "version": 3
   },
   "file_extension": ".py",
   "mimetype": "text/x-python",
   "name": "python",
   "nbconvert_exporter": "python",
   "pygments_lexer": "ipython3",
   "version": "3.7.3"
  }
 },
 "nbformat": 4,
 "nbformat_minor": 2
}
