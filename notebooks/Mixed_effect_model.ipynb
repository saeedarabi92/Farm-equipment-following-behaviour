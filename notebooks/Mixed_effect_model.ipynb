{
 "cells": [
  {
   "cell_type": "code",
   "execution_count": 204,
   "metadata": {},
   "outputs": [],
   "source": [
    "import os, glob\n",
    "import pandas as pd\n",
    "pwd = os.path.dirname(os.path.realpath('.'))\n",
    "data_folder = pwd + '/Data'\n",
    "data_2018 = data_folder + '/2018'"
   ]
  },
  {
   "cell_type": "code",
   "execution_count": 206,
   "metadata": {},
   "outputs": [
    {
     "name": "stdout",
     "output_type": "stream",
     "text": [
      "\u001b[1m\u001b[36m2018_results\u001b[m\u001b[m/     annotation.xlsx   \u001b[1m\u001b[36mspeed_for_chunks\u001b[m\u001b[m/\r\n"
     ]
    }
   ],
   "source": [
    "ls ../Data/2018/"
   ]
  },
  {
   "cell_type": "code",
   "execution_count": 207,
   "metadata": {},
   "outputs": [
    {
     "data": {
      "text/plain": [
       "3217"
      ]
     },
     "execution_count": 207,
     "metadata": {},
     "output_type": "execute_result"
    }
   ],
   "source": [
    "list_of_speed_files_2018 = glob.glob(data_2018+'/speed_for_chunks/*')\n",
    "list_of_csv_files_2018 = glob.glob(data_2018+'/2018_results/*')\n",
    "annotations = pd.read_excel(data_2018+'/annotation.xlsx')\n",
    "len(list_of_csv_files_2018)"
   ]
  },
  {
   "cell_type": "code",
   "execution_count": 208,
   "metadata": {
    "scrolled": true
   },
   "outputs": [],
   "source": [
    "#  filter unvalid files\n",
    "annotations = annotations[annotations.is_valid == 'Y']"
   ]
  },
  {
   "cell_type": "code",
   "execution_count": 210,
   "metadata": {},
   "outputs": [
    {
     "name": "stdout",
     "output_type": "stream",
     "text": [
      "239\n"
     ]
    },
    {
     "ename": "AssertionError",
     "evalue": "Not all the files found!",
     "output_type": "error",
     "traceback": [
      "\u001b[0;31m---------------------------------------------------------------------------\u001b[0m",
      "\u001b[0;31mAssertionError\u001b[0m                            Traceback (most recent call last)",
      "\u001b[0;32m<ipython-input-210-e5b687a216e3>\u001b[0m in \u001b[0;36m<module>\u001b[0;34m\u001b[0m\n\u001b[1;32m      6\u001b[0m         \u001b[0mcnt\u001b[0m \u001b[0;34m+=\u001b[0m \u001b[0;36m1\u001b[0m\u001b[0;34m\u001b[0m\u001b[0;34m\u001b[0m\u001b[0m\n\u001b[1;32m      7\u001b[0m \u001b[0mprint\u001b[0m\u001b[0;34m(\u001b[0m\u001b[0mcnt\u001b[0m\u001b[0;34m)\u001b[0m\u001b[0;34m\u001b[0m\u001b[0;34m\u001b[0m\u001b[0m\n\u001b[0;32m----> 8\u001b[0;31m \u001b[0;32massert\u001b[0m \u001b[0mcnt\u001b[0m \u001b[0;34m==\u001b[0m \u001b[0mlen\u001b[0m\u001b[0;34m(\u001b[0m\u001b[0mvalid_files\u001b[0m\u001b[0;34m)\u001b[0m\u001b[0;34m,\u001b[0m \u001b[0;34m\"Not all the files found!\"\u001b[0m\u001b[0;34m\u001b[0m\u001b[0;34m\u001b[0m\u001b[0m\n\u001b[0m",
      "\u001b[0;31mAssertionError\u001b[0m: Not all the files found!"
     ]
    }
   ],
   "source": [
    "name_of_csv_files_2018 = [i.split('/')[-1].split('.')[0] for i in list_of_csv_files_2018]\n",
    "valid_files = [i for i in annotations.filename]\n",
    "cnt = 0\n",
    "for i in valid_files:\n",
    "    if i in name_of_csv_files_2018:\n",
    "        cnt += 1\n",
    "print(cnt)\n",
    "assert cnt == len(valid_files), \"Not all the files found!\""
   ]
  },
  {
   "cell_type": "code",
   "execution_count": 168,
   "metadata": {},
   "outputs": [
    {
     "name": "stdout",
     "output_type": "stream",
     "text": [
      "unit01_2018-09-26_20_38_20_1_2832\n"
     ]
    }
   ],
   "source": [
    "for i in name_of_csv_files_2018:\n",
    "    for j in annotations.filename:\n",
    "        if i == j:\n",
    "            print(i)\n",
    "            \n",
    "        break"
   ]
  },
  {
   "cell_type": "code",
   "execution_count": 150,
   "metadata": {},
   "outputs": [
    {
     "name": "stdout",
     "output_type": "stream",
     "text": [
      "/Users/saeedarabi/Desktop/experiment/github/University-of-Iowa/Data/2018/2018_results/unit01_2018-10-03_19_27_36_2_5760.csv\n",
      "unit01_2018-09-26_20_38_20_1_2832\n"
     ]
    },
    {
     "data": {
      "text/plain": [
       "True"
      ]
     },
     "execution_count": 150,
     "metadata": {},
     "output_type": "execute_result"
    }
   ],
   "source": [
    "print(list_of_csv_files_2018[0]) #unit01_2018-10-03_19_27_36_2_5760\n",
    "print(annotations.filename[0])   #unit01_2018-09-26_20_38_20_1_2832\n",
    "\"unit01_2018-10-03_19_27_36_2_5760\" in name_of_csv_files_2018"
   ]
  },
  {
   "cell_type": "code",
   "execution_count": 194,
   "metadata": {},
   "outputs": [],
   "source": [
    "file = [i for i in list_of_csv_files_2018 if i.split('/')[-1].split('.')[0] == \"unit01_2018-09-26_20_38_20_1_2832\"][0]\n",
    "df_raw_detection = pd.read_csv(file)\n",
    "file = [i for i in list_of_speed_files_2018 if i.split('/')[-1].split('.')[0][:-6] == \"unit01_2018-09-26_20_38_20_1_2832\"][0]\n",
    "df_raw_speed = pd.read_csv(file)"
   ]
  },
  {
   "cell_type": "code",
   "execution_count": 83,
   "metadata": {},
   "outputs": [
    {
     "data": {
      "text/plain": [
       "3514"
      ]
     },
     "execution_count": 83,
     "metadata": {},
     "output_type": "execute_result"
    }
   ],
   "source": [
    "len(list_of_csv_files_2018)"
   ]
  },
  {
   "cell_type": "code",
   "execution_count": 201,
   "metadata": {},
   "outputs": [
    {
     "data": {
      "text/html": [
       "<div>\n",
       "<style scoped>\n",
       "    .dataframe tbody tr th:only-of-type {\n",
       "        vertical-align: middle;\n",
       "    }\n",
       "\n",
       "    .dataframe tbody tr th {\n",
       "        vertical-align: top;\n",
       "    }\n",
       "\n",
       "    .dataframe thead th {\n",
       "        text-align: right;\n",
       "    }\n",
       "</style>\n",
       "<table border=\"1\" class=\"dataframe\">\n",
       "  <thead>\n",
       "    <tr style=\"text-align: right;\">\n",
       "      <th></th>\n",
       "      <th>ST01</th>\n",
       "      <th>41.558751667</th>\n",
       "      <th>-92.15673667</th>\n",
       "      <th>09/26/2018</th>\n",
       "      <th>20:39:54</th>\n",
       "      <th>26SEP2018:20:39:54</th>\n",
       "      <th>13.12</th>\n",
       "      <th>15.0982336</th>\n",
       "      <th>6.74950528</th>\n",
       "      <th>Unnamed: 9</th>\n",
       "    </tr>\n",
       "  </thead>\n",
       "  <tbody>\n",
       "    <tr>\n",
       "      <th>0</th>\n",
       "      <td>ST01</td>\n",
       "      <td>41.559073</td>\n",
       "      <td>-92.156705</td>\n",
       "      <td>09/26/2018</td>\n",
       "      <td>20:39:59</td>\n",
       "      <td>26SEP2018:20:39:59</td>\n",
       "      <td>14.19</td>\n",
       "      <td>16.329568</td>\n",
       "      <td>7.299960</td>\n",
       "      <td>1</td>\n",
       "    </tr>\n",
       "    <tr>\n",
       "      <th>1</th>\n",
       "      <td>ST01</td>\n",
       "      <td>41.559443</td>\n",
       "      <td>-92.156742</td>\n",
       "      <td>09/26/2018</td>\n",
       "      <td>20:40:04</td>\n",
       "      <td>26SEP2018:20:40:04</td>\n",
       "      <td>14.58</td>\n",
       "      <td>16.778372</td>\n",
       "      <td>7.500594</td>\n",
       "      <td>1</td>\n",
       "    </tr>\n",
       "    <tr>\n",
       "      <th>2</th>\n",
       "      <td>ST01</td>\n",
       "      <td>41.559820</td>\n",
       "      <td>-92.156765</td>\n",
       "      <td>09/26/2018</td>\n",
       "      <td>20:40:09</td>\n",
       "      <td>26SEP2018:20:40:09</td>\n",
       "      <td>14.52</td>\n",
       "      <td>16.709326</td>\n",
       "      <td>7.469727</td>\n",
       "      <td>1</td>\n",
       "    </tr>\n",
       "    <tr>\n",
       "      <th>3</th>\n",
       "      <td>ST01</td>\n",
       "      <td>41.560205</td>\n",
       "      <td>-92.156802</td>\n",
       "      <td>09/26/2018</td>\n",
       "      <td>20:40:14</td>\n",
       "      <td>26SEP2018:20:40:14</td>\n",
       "      <td>15.68</td>\n",
       "      <td>18.044230</td>\n",
       "      <td>8.066482</td>\n",
       "      <td>1</td>\n",
       "    </tr>\n",
       "    <tr>\n",
       "      <th>4</th>\n",
       "      <td>ST01</td>\n",
       "      <td>41.560533</td>\n",
       "      <td>-92.156812</td>\n",
       "      <td>09/26/2018</td>\n",
       "      <td>20:40:19</td>\n",
       "      <td>26SEP2018:20:40:19</td>\n",
       "      <td>13.32</td>\n",
       "      <td>15.328390</td>\n",
       "      <td>6.852394</td>\n",
       "      <td>1</td>\n",
       "    </tr>\n",
       "    <tr>\n",
       "      <th>5</th>\n",
       "      <td>ST01</td>\n",
       "      <td>41.560942</td>\n",
       "      <td>-92.156770</td>\n",
       "      <td>09/26/2018</td>\n",
       "      <td>20:40:24</td>\n",
       "      <td>26SEP2018:20:40:24</td>\n",
       "      <td>14.05</td>\n",
       "      <td>16.168459</td>\n",
       "      <td>7.227938</td>\n",
       "      <td>1</td>\n",
       "    </tr>\n",
       "    <tr>\n",
       "      <th>6</th>\n",
       "      <td>ST01</td>\n",
       "      <td>41.561328</td>\n",
       "      <td>-92.156720</td>\n",
       "      <td>09/26/2018</td>\n",
       "      <td>20:40:29</td>\n",
       "      <td>26SEP2018:20:40:29</td>\n",
       "      <td>14.50</td>\n",
       "      <td>16.686310</td>\n",
       "      <td>7.459438</td>\n",
       "      <td>1</td>\n",
       "    </tr>\n",
       "    <tr>\n",
       "      <th>7</th>\n",
       "      <td>ST01</td>\n",
       "      <td>41.561670</td>\n",
       "      <td>-92.156683</td>\n",
       "      <td>09/26/2018</td>\n",
       "      <td>20:40:34</td>\n",
       "      <td>26SEP2018:20:40:34</td>\n",
       "      <td>11.77</td>\n",
       "      <td>13.544681</td>\n",
       "      <td>6.055006</td>\n",
       "      <td>1</td>\n",
       "    </tr>\n",
       "    <tr>\n",
       "      <th>8</th>\n",
       "      <td>ST01</td>\n",
       "      <td>41.561910</td>\n",
       "      <td>-92.156728</td>\n",
       "      <td>09/26/2018</td>\n",
       "      <td>20:40:39</td>\n",
       "      <td>26SEP2018:20:40:39</td>\n",
       "      <td>7.05</td>\n",
       "      <td>8.112999</td>\n",
       "      <td>3.626830</td>\n",
       "      <td>1</td>\n",
       "    </tr>\n",
       "    <tr>\n",
       "      <th>9</th>\n",
       "      <td>ST01</td>\n",
       "      <td>41.562052</td>\n",
       "      <td>-92.156822</td>\n",
       "      <td>09/26/2018</td>\n",
       "      <td>20:40:44</td>\n",
       "      <td>26SEP2018:20:40:44</td>\n",
       "      <td>3.94</td>\n",
       "      <td>4.534073</td>\n",
       "      <td>2.026909</td>\n",
       "      <td>1</td>\n",
       "    </tr>\n",
       "    <tr>\n",
       "      <th>10</th>\n",
       "      <td>ST01</td>\n",
       "      <td>41.562077</td>\n",
       "      <td>-92.156845</td>\n",
       "      <td>09/26/2018</td>\n",
       "      <td>20:40:49</td>\n",
       "      <td>26SEP2018:20:40:49</td>\n",
       "      <td>0.04</td>\n",
       "      <td>0.046031</td>\n",
       "      <td>0.020578</td>\n",
       "      <td>0</td>\n",
       "    </tr>\n",
       "  </tbody>\n",
       "</table>\n",
       "</div>"
      ],
      "text/plain": [
       "    ST01  41.558751667  -92.15673667  09/26/2018  20:39:54  \\\n",
       "0   ST01     41.559073    -92.156705  09/26/2018  20:39:59   \n",
       "1   ST01     41.559443    -92.156742  09/26/2018  20:40:04   \n",
       "2   ST01     41.559820    -92.156765  09/26/2018  20:40:09   \n",
       "3   ST01     41.560205    -92.156802  09/26/2018  20:40:14   \n",
       "4   ST01     41.560533    -92.156812  09/26/2018  20:40:19   \n",
       "5   ST01     41.560942    -92.156770  09/26/2018  20:40:24   \n",
       "6   ST01     41.561328    -92.156720  09/26/2018  20:40:29   \n",
       "7   ST01     41.561670    -92.156683  09/26/2018  20:40:34   \n",
       "8   ST01     41.561910    -92.156728  09/26/2018  20:40:39   \n",
       "9   ST01     41.562052    -92.156822  09/26/2018  20:40:44   \n",
       "10  ST01     41.562077    -92.156845  09/26/2018  20:40:49   \n",
       "\n",
       "    26SEP2018:20:39:54  13.12  15.0982336  6.74950528  Unnamed: 9  \n",
       "0   26SEP2018:20:39:59  14.19   16.329568    7.299960           1  \n",
       "1   26SEP2018:20:40:04  14.58   16.778372    7.500594           1  \n",
       "2   26SEP2018:20:40:09  14.52   16.709326    7.469727           1  \n",
       "3   26SEP2018:20:40:14  15.68   18.044230    8.066482           1  \n",
       "4   26SEP2018:20:40:19  13.32   15.328390    6.852394           1  \n",
       "5   26SEP2018:20:40:24  14.05   16.168459    7.227938           1  \n",
       "6   26SEP2018:20:40:29  14.50   16.686310    7.459438           1  \n",
       "7   26SEP2018:20:40:34  11.77   13.544681    6.055006           1  \n",
       "8   26SEP2018:20:40:39   7.05    8.112999    3.626830           1  \n",
       "9   26SEP2018:20:40:44   3.94    4.534073    2.026909           1  \n",
       "10  26SEP2018:20:40:49   0.04    0.046031    0.020578           0  "
      ]
     },
     "execution_count": 201,
     "metadata": {},
     "output_type": "execute_result"
    }
   ],
   "source": [
    "df_raw_speed"
   ]
  },
  {
   "cell_type": "code",
   "execution_count": 202,
   "metadata": {},
   "outputs": [
    {
     "data": {
      "text/html": [
       "<div>\n",
       "<style scoped>\n",
       "    .dataframe tbody tr th:only-of-type {\n",
       "        vertical-align: middle;\n",
       "    }\n",
       "\n",
       "    .dataframe tbody tr th {\n",
       "        vertical-align: top;\n",
       "    }\n",
       "\n",
       "    .dataframe thead th {\n",
       "        text-align: right;\n",
       "    }\n",
       "</style>\n",
       "<table border=\"1\" class=\"dataframe\">\n",
       "  <thead>\n",
       "    <tr style=\"text-align: right;\">\n",
       "      <th></th>\n",
       "      <th>frame_num</th>\n",
       "      <th>obj_ID</th>\n",
       "      <th>class_ID</th>\n",
       "      <th>H</th>\n",
       "      <th>L</th>\n",
       "      <th>T</th>\n",
       "      <th>W</th>\n",
       "    </tr>\n",
       "  </thead>\n",
       "  <tbody>\n",
       "    <tr>\n",
       "      <th>0</th>\n",
       "      <td>224</td>\n",
       "      <td>1</td>\n",
       "      <td>0</td>\n",
       "      <td>23</td>\n",
       "      <td>231</td>\n",
       "      <td>434</td>\n",
       "      <td>42</td>\n",
       "    </tr>\n",
       "    <tr>\n",
       "      <th>1</th>\n",
       "      <td>308</td>\n",
       "      <td>2</td>\n",
       "      <td>0</td>\n",
       "      <td>9</td>\n",
       "      <td>447</td>\n",
       "      <td>475</td>\n",
       "      <td>12</td>\n",
       "    </tr>\n",
       "    <tr>\n",
       "      <th>2</th>\n",
       "      <td>309</td>\n",
       "      <td>2</td>\n",
       "      <td>0</td>\n",
       "      <td>7</td>\n",
       "      <td>447</td>\n",
       "      <td>475</td>\n",
       "      <td>12</td>\n",
       "    </tr>\n",
       "    <tr>\n",
       "      <th>3</th>\n",
       "      <td>310</td>\n",
       "      <td>3</td>\n",
       "      <td>0</td>\n",
       "      <td>7</td>\n",
       "      <td>447</td>\n",
       "      <td>477</td>\n",
       "      <td>12</td>\n",
       "    </tr>\n",
       "    <tr>\n",
       "      <th>4</th>\n",
       "      <td>317</td>\n",
       "      <td>4</td>\n",
       "      <td>0</td>\n",
       "      <td>7</td>\n",
       "      <td>447</td>\n",
       "      <td>475</td>\n",
       "      <td>12</td>\n",
       "    </tr>\n",
       "    <tr>\n",
       "      <th>...</th>\n",
       "      <td>...</td>\n",
       "      <td>...</td>\n",
       "      <td>...</td>\n",
       "      <td>...</td>\n",
       "      <td>...</td>\n",
       "      <td>...</td>\n",
       "      <td>...</td>\n",
       "    </tr>\n",
       "    <tr>\n",
       "      <th>762</th>\n",
       "      <td>1325</td>\n",
       "      <td>32</td>\n",
       "      <td>0</td>\n",
       "      <td>41</td>\n",
       "      <td>633</td>\n",
       "      <td>414</td>\n",
       "      <td>51</td>\n",
       "    </tr>\n",
       "    <tr>\n",
       "      <th>763</th>\n",
       "      <td>1326</td>\n",
       "      <td>32</td>\n",
       "      <td>0</td>\n",
       "      <td>41</td>\n",
       "      <td>633</td>\n",
       "      <td>416</td>\n",
       "      <td>51</td>\n",
       "    </tr>\n",
       "    <tr>\n",
       "      <th>764</th>\n",
       "      <td>1327</td>\n",
       "      <td>32</td>\n",
       "      <td>0</td>\n",
       "      <td>39</td>\n",
       "      <td>633</td>\n",
       "      <td>416</td>\n",
       "      <td>51</td>\n",
       "    </tr>\n",
       "    <tr>\n",
       "      <th>765</th>\n",
       "      <td>1328</td>\n",
       "      <td>32</td>\n",
       "      <td>0</td>\n",
       "      <td>39</td>\n",
       "      <td>636</td>\n",
       "      <td>414</td>\n",
       "      <td>48</td>\n",
       "    </tr>\n",
       "    <tr>\n",
       "      <th>766</th>\n",
       "      <td>1416</td>\n",
       "      <td>33</td>\n",
       "      <td>0</td>\n",
       "      <td>21</td>\n",
       "      <td>909</td>\n",
       "      <td>410</td>\n",
       "      <td>30</td>\n",
       "    </tr>\n",
       "  </tbody>\n",
       "</table>\n",
       "<p>767 rows × 7 columns</p>\n",
       "</div>"
      ],
      "text/plain": [
       "     frame_num  obj_ID  class_ID   H    L    T   W\n",
       "0          224       1         0  23  231  434  42\n",
       "1          308       2         0   9  447  475  12\n",
       "2          309       2         0   7  447  475  12\n",
       "3          310       3         0   7  447  477  12\n",
       "4          317       4         0   7  447  475  12\n",
       "..         ...     ...       ...  ..  ...  ...  ..\n",
       "762       1325      32         0  41  633  414  51\n",
       "763       1326      32         0  41  633  416  51\n",
       "764       1327      32         0  39  633  416  51\n",
       "765       1328      32         0  39  636  414  48\n",
       "766       1416      33         0  21  909  410  30\n",
       "\n",
       "[767 rows x 7 columns]"
      ]
     },
     "execution_count": 202,
     "metadata": {},
     "output_type": "execute_result"
    }
   ],
   "source": [
    "df_raw_detection"
   ]
  },
  {
   "cell_type": "code",
   "execution_count": 203,
   "metadata": {},
   "outputs": [
    {
     "data": {
      "text/html": [
       "<div>\n",
       "<style scoped>\n",
       "    .dataframe tbody tr th:only-of-type {\n",
       "        vertical-align: middle;\n",
       "    }\n",
       "\n",
       "    .dataframe tbody tr th {\n",
       "        vertical-align: top;\n",
       "    }\n",
       "\n",
       "    .dataframe thead th {\n",
       "        text-align: right;\n",
       "    }\n",
       "</style>\n",
       "<table border=\"1\" class=\"dataframe\">\n",
       "  <thead>\n",
       "    <tr style=\"text-align: right;\">\n",
       "      <th></th>\n",
       "      <th>filename</th>\n",
       "      <th>is_valid</th>\n",
       "      <th>Start time</th>\n",
       "      <th>End time</th>\n",
       "      <th>Type of vehicle</th>\n",
       "      <th>Type of road</th>\n",
       "      <th>Results</th>\n",
       "    </tr>\n",
       "  </thead>\n",
       "  <tbody>\n",
       "    <tr>\n",
       "      <th>0</th>\n",
       "      <td>unit01_2018-09-26_20_38_20_1_2832</td>\n",
       "      <td>Y</td>\n",
       "      <td>203955.0</td>\n",
       "      <td>204048.0</td>\n",
       "      <td>SUV</td>\n",
       "      <td>PAVED</td>\n",
       "      <td>FE TURNS</td>\n",
       "    </tr>\n",
       "  </tbody>\n",
       "</table>\n",
       "</div>"
      ],
      "text/plain": [
       "                            filename is_valid  Start time  End time  \\\n",
       "0  unit01_2018-09-26_20_38_20_1_2832        Y    203955.0  204048.0   \n",
       "\n",
       "  Type of vehicle Type of road   Results  \n",
       "0             SUV        PAVED  FE TURNS  "
      ]
     },
     "execution_count": 203,
     "metadata": {},
     "output_type": "execute_result"
    }
   ],
   "source": [
    "annotations[annotations.filename == \"unit01_2018-09-26_20_38_20_1_2832\"]"
   ]
  },
  {
   "cell_type": "code",
   "execution_count": null,
   "metadata": {},
   "outputs": [],
   "source": []
  }
 ],
 "metadata": {
  "kernelspec": {
   "display_name": "Python 3",
   "language": "python",
   "name": "python3"
  },
  "language_info": {
   "codemirror_mode": {
    "name": "ipython",
    "version": 3
   },
   "file_extension": ".py",
   "mimetype": "text/x-python",
   "name": "python",
   "nbconvert_exporter": "python",
   "pygments_lexer": "ipython3",
   "version": "3.7.3"
  }
 },
 "nbformat": 4,
 "nbformat_minor": 2
}
